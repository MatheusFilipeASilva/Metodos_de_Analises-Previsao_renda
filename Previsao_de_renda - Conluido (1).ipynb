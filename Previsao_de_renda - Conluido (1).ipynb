{
 "cells": [
  {
   "cell_type": "markdown",
   "metadata": {},
   "source": [
    "# Previsão de renda"
   ]
  },
  {
   "cell_type": "markdown",
   "metadata": {},
   "source": [
    "### 4 elementos importantes\n",
    "- Esse notebook\n",
    "- Streamlit com as análises\n",
    "- Seu Github com o projeto\n",
    "- Vídeo no readme do github mostrando o streamlit"
   ]
  },
  {
   "cell_type": "markdown",
   "metadata": {},
   "source": [
    "## Etapa 1 CRISP - DM: Entendimento do negócio\n",
    "\n",
    "<span style=\"color:red\">Nosso projeto girará em torno de prever com a melhor assertividade possível a renda dos clientes com base nas variáveis disponíveis. Faremos uma análise preditiva, então interessa que tenhamos uma base de testes e uma base de treino, de modo que possamos verificar e prevenir o risco de overlifting...</span>\n"
   ]
  },
  {
   "cell_type": "markdown",
   "metadata": {},
   "source": [
    "## Etapa 2 Crisp-DM: Entendimento dos dados\n",
    "<span style=\"color:red\">Nossos dados se resumem a um dataframe com diversas informações a respeito de clientes, a respeito de suas condições de vida (moradia, estado civil, posse de bens)\n",
    "\n",
    "Estes dados, usaremos para prever a renda dos mesmos, uma previsão que pode ser útil em diversos contextos, principalmente de analise financeira.</span>\n",
    "\n",
    "\n",
    "### Dicionário de dados\n",
    "\n",
    "<span style=\"color:red\">Glossário de variáveis:</span>\n",
    "\n",
    "| **Variável**             | **Descrição**                                                                             | **Tipo**       |\n",
    "| ------------------------ | ----------------------------------------------------------------------------------------- | -------------: |\n",
    "| `data_ref`               | A data de referência da coleta dos dados                                                   | OBJECT         |\n",
    "| `id_cliente`             | Uma identidade numérica do cliente, única                                                  | int            |\n",
    "| `sexo`                   | Designa o sexo do cliente                                                                  | OBJECT-> bool       |\n",
    "| `posse_de_veiculo`       | Explicita se o cliente possui ou não automóvel                                             | bool           |\n",
    "| `posse_de_imovel`        | Explicita se o cliente possui ou não imóvel                                                | bool           |\n",
    "| `qtd_filhos`             | Designa quantos filhos o cliente tem                                                       | int            |\n",
    "| `tipo_renda`             | Designa o tipo da fonte de rendimentos do cliente                                          | OBJECT         |\n",
    "| `educacao`               | Designa o grau de escolaridade do cliente                                                  | OBJECT         |\n",
    "| `estado_civil`           | Designa o estado civil do cliente                                                          | OBJECT         |\n",
    "| `tipo_residencia`        | Designa o tipo da residência onde vive o cliente                                           | OBJECT         |\n",
    "| `idade`                  | Designa a idade do cliente                                                                 | int            |\n",
    "| `tempo_emprego`          | Designa a quanto tempo o cliente está no mesmo emprego                                     | float          |\n",
    "| `qt_pessoas_residencia`  | Designa a quantidade de pessoas que compartilham a residência com o cliente                | float → int    |\n",
    "| `renda`                  | O rendimento mensal do cliente                                                             | float               | ESCREVER AQUI|\n",
    "\n",
    "\n",
    "\n"
   ]
  },
  {
   "cell_type": "markdown",
   "metadata": {},
   "source": [
    "#### Carregando os pacotes\n",
    "É considerado uma boa prática carregar os pacotes que serão utilizados como a primeira coisa do programa."
   ]
  },
  {
   "cell_type": "markdown",
   "metadata": {},
   "source": [
    "<span style=\"color:red\">Os pacotes que estaremos utilizando são: Pandas, Seaborn, Scikit-learn, Matplotlib.pyplot, Streamlit</span>\n"
   ]
  },
  {
   "cell_type": "code",
   "execution_count": 26,
   "metadata": {
    "scrolled": true
   },
   "outputs": [],
   "source": [
    "import pandas as pd\n",
    "from sklearn.model_selection import train_test_split\n",
    "from sklearn import metrics\n",
    "from sklearn.ensemble import RandomForestClassifier\n",
    "\n",
    "from scipy.stats import ks_2samp\n",
    "import seaborn as sns\n",
    "from seaborn import load_dataset\n",
    "import matplotlib.pyplot as plt\n",
    "import seaborn as sns\n",
    "import numpy as np\n",
    "import patsy\n",
    "import statsmodels.api as sm\n",
    "import statsmodels.formula.api as smf\n",
    "from ydata_profiling import ProfileReport\n",
    "import statsmodels.api as sm\n",
    "import statsmodels.formula.api as smf\n",
    "\n",
    "\n",
    "def stepwise_selection(X, y, \n",
    "                       initial_list=[], \n",
    "                       threshold_in=0.05, \n",
    "                       threshold_out = 0.05, \n",
    "                       verbose=True):\n",
    "    \"\"\" Perform a forward-backward feature selection \n",
    "    based on p-value from statsmodels.api.OLS\n",
    "    Arguments:\n",
    "        X - pandas.DataFrame with candidate features\n",
    "        y - list-like with the target\n",
    "        initial_list - list of features to start with (column names of X)\n",
    "        threshold_in - include a feature if its p-value < threshold_in\n",
    "        threshold_out - exclude a feature if its p-value > threshold_out\n",
    "        verbose - whether to print the sequence of inclusions and exclusions\n",
    "    Returns: list of selected features \n",
    "    Always set threshold_in < threshold_out to avoid infinite looping.\n",
    "    See https://en.wikipedia.org/wiki/Stepwise_regression for the details\n",
    "    \"\"\"\n",
    "    included = list(initial_list)\n",
    "    while True:\n",
    "        changed=False\n",
    "        # forward step\n",
    "        excluded = list(set(X.columns)-set(included))\n",
    "        new_pval = pd.Series(index=excluded, dtype=np.dtype('float64'))\n",
    "        for new_column in excluded:\n",
    "            model = sm.OLS(y, sm.add_constant(pd.DataFrame(X[included+[new_column]]))).fit()\n",
    "            new_pval[new_column] = model.pvalues[new_column]\n",
    "        best_pval = new_pval.min()\n",
    "        if best_pval < threshold_in:\n",
    "            best_feature = new_pval.index[new_pval.argmin()]\n",
    "            included.append(best_feature)\n",
    "            changed=True\n",
    "            if verbose:\n",
    "                 print('Add  {:30} with p-value {:.6}'.format(best_feature, best_pval))\n",
    "\n",
    "        # backward step\n",
    "        print(\"#############\")\n",
    "        print(included)\n",
    "        model = sm.OLS(y, sm.add_constant(pd.DataFrame(X[included]))).fit()\n",
    "        # use all coefs except intercept\n",
    "        pvalues = model.pvalues.iloc[1:]\n",
    "        worst_pval = pvalues.max() # null if pvalues is empty\n",
    "        if worst_pval > threshold_out:\n",
    "            changed=True\n",
    "            worst_feature = pvalues.argmax()\n",
    "            included.remove(worst_feature)\n",
    "            if verbose:\n",
    "                print('Drop {:30} with p-value {:.6}'.format(worst_feature, worst_pval))\n",
    "        if not changed:\n",
    "            break\n",
    "    return included"
   ]
  },
  {
   "cell_type": "markdown",
   "metadata": {},
   "source": [
    "#### Carregando os dados\n",
    "O comando pd.read_csv é um comando da biblioteca pandas (pd.) e carrega os dados do arquivo csv indicado para um objeto *dataframe* do pandas."
   ]
  },
  {
   "cell_type": "code",
   "execution_count": 27,
   "metadata": {},
   "outputs": [],
   "source": [
    "renda = pd.read_csv('previsao_de_renda.csv')"
   ]
  },
  {
   "cell_type": "markdown",
   "metadata": {},
   "source": [
    "Uma das coisas que mais podemos notar no nosso relatório, é a alta correlação entre diversas variáveis. Para amenizar este problema, combinaremos duas técnicas:\n",
    "* Uma seleção stepwise\n",
    "* Uma regressão elastic-net para misturar as regressões ridge e lasso, e assim minimizar os efeitos da multicolinearidade acusada pelo\n",
    "  alto nível de correlação entre várias variáveis."
   ]
  },
  {
   "cell_type": "code",
   "execution_count": null,
   "metadata": {},
   "outputs": [],
   "source": []
  },
  {
   "cell_type": "markdown",
   "metadata": {},
   "source": [
    "### Entendimento dos dados - Bivariadas\n",
    "\n",
    "\n"
   ]
  },
  {
   "cell_type": "markdown",
   "metadata": {},
   "source": [
    "<span style=\"color:red\">ESCREVER AQUI</span>\n"
   ]
  },
  {
   "cell_type": "markdown",
   "metadata": {},
   "source": [
    "<span style=\"color:red\">Faremos aqui uma análise de algumas variáveis fortemente relacionadas com a renda, utilizando gráficos do SNS</span>\n"
   ]
  },
  {
   "cell_type": "code",
   "execution_count": null,
   "metadata": {},
   "outputs": [],
   "source": []
  },
  {
   "cell_type": "markdown",
   "metadata": {},
   "source": [
    "## Etapa 3 Crisp-DM: Preparação dos dados\n",
    "Nessa etapa realizamos tipicamente as seguintes operações com os dados:\n",
    "\n",
    " - **seleção**: Já temos os dados selecionados adequadamente?\n",
    " - **limpeza**: Precisaremos identificar e tratar dados faltantes\n",
    " - **construção**: construção de novas variáveis\n",
    " - **integração**: Temos apenas uma fonte de dados, não é necessário integração\n",
    " - **formatação**: Os dados já se encontram em formatos úteis?\n",
    "\n"
   ]
  },
  {
   "cell_type": "markdown",
   "metadata": {},
   "source": [
    "<span style=\"color:red\">ESCREVER AQUI</span>\n"
   ]
  },
  {
   "cell_type": "raw",
   "metadata": {},
   "source": [
    "Vamos agora fazer toda a adequação necessário nos nossos dados, o que inclui:\n",
    "Eliminar os dados faltantes (na)\n",
    "Transformar quantidade de pessoas na residência em inteiro\n",
    "Retirar as colunas data_ref, id_cliente e Unnamed: 0 \n",
    "Tranformar object em dummies\n",
    "Transformar os booleanos em inteiros (pois o nosso algoritmo não suporta booleanos, apenas valores numéricos)\n",
    "Transformar os nomes das colunas para que não hajam espaços no mesmos, pois o patsy não suporta espaços nos nomes das colunas.\n",
    "Criar as repartições e os dataframes de treino e de teste"
   ]
  },
  {
   "cell_type": "code",
   "execution_count": 57,
   "metadata": {},
   "outputs": [],
   "source": [
    "# Tendo em vista que os missings do tempo de emprego provavelmente dizem respeito à pessoas que não estão empregadas, (portanto não é \n",
    "# aplicável \"tempo de emprego\" para elas, converteremos nossos na em 0)\n",
    "\n",
    "renda = renda.fillna(value=0)"
   ]
  },
  {
   "cell_type": "code",
   "execution_count": 59,
   "metadata": {},
   "outputs": [],
   "source": [
    "# Transformando qt_pessoas_residencia em int:\n",
    "renda['qt_pessoas_residencia'] = renda['qt_pessoas_residencia'].astype(int)"
   ]
  },
  {
   "cell_type": "code",
   "execution_count": 60,
   "metadata": {},
   "outputs": [],
   "source": [
    "# Retirando colunas que não são pertinentes na análise:\n",
    "renda = renda.drop(columns= ['data_ref', 'id_cliente', 'Unnamed: 0'], errors='ignore')"
   ]
  },
  {
   "cell_type": "code",
   "execution_count": 61,
   "metadata": {
    "scrolled": true
   },
   "outputs": [],
   "source": [
    "# Transformando objects em dummies:\n",
    "dummie_vars = []\n",
    "for col in renda.columns:\n",
    "    if renda[col].dtype == 'object':\n",
    "        dummie_vars.append(col)\n",
    "renda = pd.get_dummies(data=renda, columns=dummie_vars, drop_first=True)\n"
   ]
  },
  {
   "cell_type": "code",
   "execution_count": 62,
   "metadata": {},
   "outputs": [],
   "source": [
    "# Transformando booleanos em int:\n",
    "for col in renda.columns:\n",
    "    if renda[col].dtype == 'bool':\n",
    "        renda[col] = renda[col].astype(int)\n"
   ]
  },
  {
   "cell_type": "code",
   "execution_count": 63,
   "metadata": {},
   "outputs": [],
   "source": [
    "# Retirar os espaços das colunas:\n",
    "colunas = renda.columns\n",
    "colunas_renomeadas = [s.replace(' ', '_') for s in colunas]\n",
    "renda.columns = colunas_renomeadas\n"
   ]
  },
  {
   "cell_type": "code",
   "execution_count": 65,
   "metadata": {},
   "outputs": [],
   "source": [
    "# Separando as bases de treino e teste:\n",
    "X = renda.drop(columns = ['renda'])\n",
    "Y = pd.DataFrame(renda['renda'])\n",
    "X_train, x_test, Y_train, y_test = train_test_split(X, Y, test_size=.25, random_state=40028922)\n",
    "\n",
    "# Criando os dataframes de treino e teste\n",
    "df_train = pd.concat([X_train, Y_train], axis=1)\n",
    "df_test = pd.concat([x_test, y_test], axis=1)\n"
   ]
  },
  {
   "cell_type": "markdown",
   "metadata": {},
   "source": [
    "## Etapa 4 Crisp-DM: Modelagem\n",
    "Nessa etapa que realizaremos a construção do modelo. Os passos típicos são:\n",
    "- Selecionar a técnica de modelagem\n",
    "- Desenho do teste\n",
    "- Avaliação do modelo\n"
   ]
  },
  {
   "cell_type": "markdown",
   "metadata": {},
   "source": [
    "<span style=\"color:red\">Agora, rodaremos um algoritmo stepwise para selecionar as variáveis a serem inclusas em nossa regressão elastic net, e depois, iremos usar um join para converter essa lista de variáveis em um modelo pronto para o uso no patsy! Nosso modelo usará o as variáveis explicativas para explicar o log da renda, e depois fazer a conversão. Assim, teremos: </span>"
   ]
  },
  {
   "cell_type": "code",
   "execution_count": 68,
   "metadata": {},
   "outputs": [
    {
     "name": "stdout",
     "output_type": "stream",
     "text": [
      "Add  tempo_emprego                  with p-value 0.0\n",
      "#############\n",
      "['tempo_emprego']\n",
      "Add  sexo_M                         with p-value 6.0023e-262\n",
      "#############\n",
      "['tempo_emprego', 'sexo_M']\n",
      "Add  tipo_renda_Empresário          with p-value 3.1459e-05\n",
      "#############\n",
      "['tempo_emprego', 'sexo_M', 'tipo_renda_Empresário']\n",
      "Add  idade                          with p-value 6.14467e-05\n",
      "#############\n",
      "['tempo_emprego', 'sexo_M', 'tipo_renda_Empresário', 'idade']\n",
      "Add  educacao_Superior_completo     with p-value 4.91919e-05\n",
      "#############\n",
      "['tempo_emprego', 'sexo_M', 'tipo_renda_Empresário', 'idade', 'educacao_Superior_completo']\n",
      "Add  posse_de_imovel                with p-value 0.0300379\n",
      "#############\n",
      "['tempo_emprego', 'sexo_M', 'tipo_renda_Empresário', 'idade', 'educacao_Superior_completo', 'posse_de_imovel']\n",
      "Add  estado_civil_Solteiro          with p-value 0.0343881\n",
      "#############\n",
      "['tempo_emprego', 'sexo_M', 'tipo_renda_Empresário', 'idade', 'educacao_Superior_completo', 'posse_de_imovel', 'estado_civil_Solteiro']\n",
      "#############\n",
      "['tempo_emprego', 'sexo_M', 'tipo_renda_Empresário', 'idade', 'educacao_Superior_completo', 'posse_de_imovel', 'estado_civil_Solteiro']\n"
     ]
    }
   ],
   "source": [
    "# Selecionando as variáveis com o stepwise:\n",
    "\n",
    "var_to_regr = stepwise_selection(X_train, Y_train, threshold_in=0.05, threshold_out=0.05)"
   ]
  },
  {
   "cell_type": "markdown",
   "metadata": {},
   "source": [
    "['tempo_emprego',\r\n",
    " 'sexo_M',\r\n",
    " 'tipo_renda_Empresário',\r\n",
    " 'idade',\r\n",
    " 'educacao_Supe_ior completo',\r\n",
    " 'posse_de_imovel',\r\n",
    " 'estado_civieiro']l_Solt foram as nossas variáveis selecionadas. Portanto, serão as variáveis que usaremos na construção do nosso algoritmo de regressão utilizando Elastieiro']"
   ]
  },
  {
   "cell_type": "code",
   "execution_count": 90,
   "metadata": {},
   "outputs": [],
   "source": [
    "# Formatando as variávies para uso no patsy:\n",
    "selected_vars = ' + '.join(var_to_regr)\n",
    "modelo = 'np.log(renda) ~ ' + selected_vars + '+ posse_de_veiculo'"
   ]
  },
  {
   "cell_type": "markdown",
   "metadata": {},
   "source": [
    "### Rodando o modelo\n"
   ]
  },
  {
   "cell_type": "markdown",
   "metadata": {},
   "source": [
    "<span style=\"color:red\">Vamos optar por utilizar o log da renda para traçar a nossa relação, visto que trás melhores resultados.</span>\n"
   ]
  },
  {
   "cell_type": "code",
   "execution_count": 114,
   "metadata": {},
   "outputs": [
    {
     "data": {
      "text/html": [
       "<table class=\"simpletable\">\n",
       "<caption>OLS Regression Results</caption>\n",
       "<tr>\n",
       "  <th>Dep. Variable:</th>      <td>np.log(renda)</td>  <th>  R-squared:         </th> <td>   0.353</td> \n",
       "</tr>\n",
       "<tr>\n",
       "  <th>Model:</th>                   <td>OLS</td>       <th>  Adj. R-squared:    </th> <td>   0.353</td> \n",
       "</tr>\n",
       "<tr>\n",
       "  <th>Method:</th>             <td>Least Squares</td>  <th>  F-statistic:       </th> <td>   1018.</td> \n",
       "</tr>\n",
       "<tr>\n",
       "  <th>Date:</th>             <td>Thu, 29 Aug 2024</td> <th>  Prob (F-statistic):</th>  <td>  0.00</td>  \n",
       "</tr>\n",
       "<tr>\n",
       "  <th>Time:</th>                 <td>13:07:37</td>     <th>  Log-Likelihood:    </th> <td> -10241.</td> \n",
       "</tr>\n",
       "<tr>\n",
       "  <th>No. Observations:</th>      <td>  9320</td>      <th>  AIC:               </th> <td>2.049e+04</td>\n",
       "</tr>\n",
       "<tr>\n",
       "  <th>Df Residuals:</th>          <td>  9315</td>      <th>  BIC:               </th> <td>2.054e+04</td>\n",
       "</tr>\n",
       "<tr>\n",
       "  <th>Df Model:</th>              <td>     5</td>      <th>                     </th>     <td> </td>    \n",
       "</tr>\n",
       "<tr>\n",
       "  <th>Covariance Type:</th>      <td>nonrobust</td>    <th>                     </th>     <td> </td>    \n",
       "</tr>\n",
       "</table>\n",
       "<table class=\"simpletable\">\n",
       "<tr>\n",
       "               <td></td>                 <th>coef</th>     <th>std err</th>      <th>t</th>      <th>P>|t|</th>  <th>[0.025</th>    <th>0.975]</th>  \n",
       "</tr>\n",
       "<tr>\n",
       "  <th>Intercept</th>                  <td>    7.2631</td> <td>    0.036</td> <td>  203.087</td> <td> 0.000</td> <td>    7.193</td> <td>    7.333</td>\n",
       "</tr>\n",
       "<tr>\n",
       "  <th>tempo_emprego</th>              <td>    0.0617</td> <td>    0.001</td> <td>   51.962</td> <td> 0.000</td> <td>    0.059</td> <td>    0.064</td>\n",
       "</tr>\n",
       "<tr>\n",
       "  <th>sexo_M</th>                     <td>    0.8029</td> <td>    0.016</td> <td>   50.703</td> <td> 0.000</td> <td>    0.772</td> <td>    0.834</td>\n",
       "</tr>\n",
       "<tr>\n",
       "  <th>tipo_renda_Empresário</th>      <td>    0.1442</td> <td>    0.017</td> <td>    8.591</td> <td> 0.000</td> <td>    0.111</td> <td>    0.177</td>\n",
       "</tr>\n",
       "<tr>\n",
       "  <th>idade</th>                      <td>    0.0049</td> <td>    0.001</td> <td>    5.735</td> <td> 0.000</td> <td>    0.003</td> <td>    0.007</td>\n",
       "</tr>\n",
       "<tr>\n",
       "  <th>educacao_Superior_completo</th> <td>         0</td> <td>        0</td> <td>      nan</td> <td>   nan</td> <td>        0</td> <td>        0</td>\n",
       "</tr>\n",
       "<tr>\n",
       "  <th>posse_de_imovel</th>            <td>         0</td> <td>        0</td> <td>      nan</td> <td>   nan</td> <td>        0</td> <td>        0</td>\n",
       "</tr>\n",
       "<tr>\n",
       "  <th>estado_civil_Solteiro</th>      <td>         0</td> <td>        0</td> <td>      nan</td> <td>   nan</td> <td>        0</td> <td>        0</td>\n",
       "</tr>\n",
       "<tr>\n",
       "  <th>posse_de_veiculo</th>           <td>         0</td> <td>        0</td> <td>      nan</td> <td>   nan</td> <td>        0</td> <td>        0</td>\n",
       "</tr>\n",
       "</table>\n",
       "<table class=\"simpletable\">\n",
       "<tr>\n",
       "  <th>Omnibus:</th>       <td> 0.116</td> <th>  Durbin-Watson:     </th> <td>   1.967</td>\n",
       "</tr>\n",
       "<tr>\n",
       "  <th>Prob(Omnibus):</th> <td> 0.944</td> <th>  Jarque-Bera (JB):  </th> <td>   0.138</td>\n",
       "</tr>\n",
       "<tr>\n",
       "  <th>Skew:</th>          <td> 0.004</td> <th>  Prob(JB):          </th> <td>   0.933</td>\n",
       "</tr>\n",
       "<tr>\n",
       "  <th>Kurtosis:</th>      <td> 2.983</td> <th>  Cond. No.          </th> <td>    223.</td>\n",
       "</tr>\n",
       "</table><br/><br/>Notes:<br/>[1] Standard Errors assume that the covariance matrix of the errors is correctly specified."
      ],
      "text/latex": [
       "\\begin{center}\n",
       "\\begin{tabular}{lclc}\n",
       "\\toprule\n",
       "\\textbf{Dep. Variable:}               &  np.log(renda)   & \\textbf{  R-squared:         } &     0.353   \\\\\n",
       "\\textbf{Model:}                       &       OLS        & \\textbf{  Adj. R-squared:    } &     0.353   \\\\\n",
       "\\textbf{Method:}                      &  Least Squares   & \\textbf{  F-statistic:       } &     1018.   \\\\\n",
       "\\textbf{Date:}                        & Thu, 29 Aug 2024 & \\textbf{  Prob (F-statistic):} &     0.00    \\\\\n",
       "\\textbf{Time:}                        &     13:07:37     & \\textbf{  Log-Likelihood:    } &   -10241.   \\\\\n",
       "\\textbf{No. Observations:}            &        9320      & \\textbf{  AIC:               } & 2.049e+04   \\\\\n",
       "\\textbf{Df Residuals:}                &        9315      & \\textbf{  BIC:               } & 2.054e+04   \\\\\n",
       "\\textbf{Df Model:}                    &           5      & \\textbf{                     } &             \\\\\n",
       "\\textbf{Covariance Type:}             &    nonrobust     & \\textbf{                     } &             \\\\\n",
       "\\bottomrule\n",
       "\\end{tabular}\n",
       "\\begin{tabular}{lcccccc}\n",
       "                                      & \\textbf{coef} & \\textbf{std err} & \\textbf{t} & \\textbf{P$> |$t$|$} & \\textbf{[0.025} & \\textbf{0.975]}  \\\\\n",
       "\\midrule\n",
       "\\textbf{Intercept}                    &       7.2631  &        0.036     &   203.087  &         0.000        &        7.193    &        7.333     \\\\\n",
       "\\textbf{tempo\\_emprego}               &       0.0617  &        0.001     &    51.962  &         0.000        &        0.059    &        0.064     \\\\\n",
       "\\textbf{sexo\\_M}                      &       0.8029  &        0.016     &    50.703  &         0.000        &        0.772    &        0.834     \\\\\n",
       "\\textbf{tipo\\_renda\\_Empresário}      &       0.1442  &        0.017     &     8.591  &         0.000        &        0.111    &        0.177     \\\\\n",
       "\\textbf{idade}                        &       0.0049  &        0.001     &     5.735  &         0.000        &        0.003    &        0.007     \\\\\n",
       "\\textbf{educacao\\_Superior\\_completo} &            0  &            0     &       nan  &           nan        &            0    &            0     \\\\\n",
       "\\textbf{posse\\_de\\_imovel}            &            0  &            0     &       nan  &           nan        &            0    &            0     \\\\\n",
       "\\textbf{estado\\_civil\\_Solteiro}      &            0  &            0     &       nan  &           nan        &            0    &            0     \\\\\n",
       "\\textbf{posse\\_de\\_veiculo}           &            0  &            0     &       nan  &           nan        &            0    &            0     \\\\\n",
       "\\bottomrule\n",
       "\\end{tabular}\n",
       "\\begin{tabular}{lclc}\n",
       "\\textbf{Omnibus:}       &  0.116 & \\textbf{  Durbin-Watson:     } &    1.967  \\\\\n",
       "\\textbf{Prob(Omnibus):} &  0.944 & \\textbf{  Jarque-Bera (JB):  } &    0.138  \\\\\n",
       "\\textbf{Skew:}          &  0.004 & \\textbf{  Prob(JB):          } &    0.933  \\\\\n",
       "\\textbf{Kurtosis:}      &  2.983 & \\textbf{  Cond. No.          } &     223.  \\\\\n",
       "\\bottomrule\n",
       "\\end{tabular}\n",
       "%\\caption{OLS Regression Results}\n",
       "\\end{center}\n",
       "\n",
       "Notes: \\newline\n",
       " [1] Standard Errors assume that the covariance matrix of the errors is correctly specified."
      ],
      "text/plain": [
       "<class 'statsmodels.iolib.summary.Summary'>\n",
       "\"\"\"\n",
       "                            OLS Regression Results                            \n",
       "==============================================================================\n",
       "Dep. Variable:          np.log(renda)   R-squared:                       0.353\n",
       "Model:                            OLS   Adj. R-squared:                  0.353\n",
       "Method:                 Least Squares   F-statistic:                     1018.\n",
       "Date:                Thu, 29 Aug 2024   Prob (F-statistic):               0.00\n",
       "Time:                        13:07:37   Log-Likelihood:                -10241.\n",
       "No. Observations:                9320   AIC:                         2.049e+04\n",
       "Df Residuals:                    9315   BIC:                         2.054e+04\n",
       "Df Model:                           5                                         \n",
       "Covariance Type:            nonrobust                                         \n",
       "==============================================================================================\n",
       "                                 coef    std err          t      P>|t|      [0.025      0.975]\n",
       "----------------------------------------------------------------------------------------------\n",
       "Intercept                      7.2631      0.036    203.087      0.000       7.193       7.333\n",
       "tempo_emprego                  0.0617      0.001     51.962      0.000       0.059       0.064\n",
       "sexo_M                         0.8029      0.016     50.703      0.000       0.772       0.834\n",
       "tipo_renda_Empresário          0.1442      0.017      8.591      0.000       0.111       0.177\n",
       "idade                          0.0049      0.001      5.735      0.000       0.003       0.007\n",
       "educacao_Superior_completo          0          0        nan        nan           0           0\n",
       "posse_de_imovel                     0          0        nan        nan           0           0\n",
       "estado_civil_Solteiro               0          0        nan        nan           0           0\n",
       "posse_de_veiculo                    0          0        nan        nan           0           0\n",
       "==============================================================================\n",
       "Omnibus:                        0.116   Durbin-Watson:                   1.967\n",
       "Prob(Omnibus):                  0.944   Jarque-Bera (JB):                0.138\n",
       "Skew:                           0.004   Prob(JB):                        0.933\n",
       "Kurtosis:                       2.983   Cond. No.                         223.\n",
       "==============================================================================\n",
       "\n",
       "Notes:\n",
       "[1] Standard Errors assume that the covariance matrix of the errors is correctly specified.\n",
       "\"\"\""
      ]
     },
     "execution_count": 114,
     "metadata": {},
     "output_type": "execute_result"
    }
   ],
   "source": [
    "\n",
    "model_stepwise = smf.ols(modelo, data=df_train)\n",
    "regr_stepwise = model_stepwise.fit_regularized(method='elastic_net'\n",
    "                                              , refit=True\n",
    "                                              , L1_wt=0.4\n",
    "                                              , alpha=.1)\n",
    "regr_stepwise.summary()"
   ]
  },
  {
   "cell_type": "markdown",
   "metadata": {},
   "source": [
    "## Etapa 5 Crisp-DM: Avaliação dos resultados\n"
   ]
  },
  {
   "cell_type": "markdown",
   "metadata": {},
   "source": [
    "<span style=\"color:red\">Obtivemos um R² satisfatório na base de testes, e com relação ao logaritmo da renda... porém, o que nos interessa é nossa capacidade de prever a renda, e não seu logaritmo. Agora, portanto, veremos a adequação do modelo em prever a renda em si, e também verificaremos esta mesma capacidade na base de testes.</span>\n"
   ]
  },
  {
   "cell_type": "code",
   "execution_count": 115,
   "metadata": {},
   "outputs": [
    {
     "data": {
      "text/plain": [
       "0.2681675255587592"
      ]
     },
     "execution_count": 115,
     "metadata": {},
     "output_type": "execute_result"
    }
   ],
   "source": [
    "log_renda_pred = regr_stepwise.predict(x_test)\n",
    "renda_pred = np.exp(log_renda_pred)\n",
    "r2 = metrics.r2_score(y_test, renda_pred)\n",
    "r2"
   ]
  },
  {
   "cell_type": "code",
   "execution_count": 116,
   "metadata": {},
   "outputs": [],
   "source": [
    "# Conseguimos obter um R² de .268 na base de testes, o que é um resultado razoável para um dado difícil de se prever como a renda...\n",
    "\n",
    "# Um comentário: utilizar um parametro L1 menor dentro do elastic_net, nos concederia uma eficiência maior na base de treino, mas\n",
    "# menor na base de testes, ou seja, um overfiting..."
   ]
  },
  {
   "cell_type": "markdown",
   "metadata": {},
   "source": [
    "## Etapa 6 Crisp-DM: Implantação\n",
    "Nessa etapa colocamos em uso o modelo desenvolvido, normalmente implementando o modelo desenvolvido em um motor que toma as decisões com algum nível de automação."
   ]
  },
  {
   "cell_type": "code",
   "execution_count": null,
   "metadata": {},
   "outputs": [],
   "source": []
  },
  {
   "cell_type": "code",
   "execution_count": null,
   "metadata": {},
   "outputs": [],
   "source": []
  },
  {
   "cell_type": "code",
   "execution_count": null,
   "metadata": {},
   "outputs": [],
   "source": []
  },
  {
   "cell_type": "code",
   "execution_count": null,
   "metadata": {},
   "outputs": [],
   "source": []
  },
  {
   "cell_type": "code",
   "execution_count": null,
   "metadata": {},
   "outputs": [],
   "source": []
  }
 ],
 "metadata": {
  "kernelspec": {
   "display_name": "Python 3 (ipykernel)",
   "language": "python",
   "name": "python3"
  },
  "language_info": {
   "codemirror_mode": {
    "name": "ipython",
    "version": 3
   },
   "file_extension": ".py",
   "mimetype": "text/x-python",
   "name": "python",
   "nbconvert_exporter": "python",
   "pygments_lexer": "ipython3",
   "version": "3.12.4"
  },
  "varInspector": {
   "cols": {
    "lenName": 16,
    "lenType": 16,
    "lenVar": 40
   },
   "kernels_config": {
    "python": {
     "delete_cmd_postfix": "",
     "delete_cmd_prefix": "del ",
     "library": "var_list.py",
     "varRefreshCmd": "print(var_dic_list())"
    },
    "r": {
     "delete_cmd_postfix": ") ",
     "delete_cmd_prefix": "rm(",
     "library": "var_list.r",
     "varRefreshCmd": "cat(var_dic_list()) "
    }
   },
   "types_to_exclude": [
    "module",
    "function",
    "builtin_function_or_method",
    "instance",
    "_Feature"
   ],
   "window_display": false
  }
 },
 "nbformat": 4,
 "nbformat_minor": 4
}
